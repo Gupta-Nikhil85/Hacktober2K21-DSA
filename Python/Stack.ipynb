{
 "cells": [
  {
   "cell_type": "code",
   "execution_count": 17,
   "metadata": {
    "ExecuteTime": {
     "end_time": "2021-10-06T16:01:09.654424Z",
     "start_time": "2021-10-06T16:01:09.638719Z"
    }
   },
   "outputs": [
    {
     "name": "stdout",
     "output_type": "stream",
     "text": [
      "Stack Initialized with size: 3.\n",
      "2 pushed to 0 position of stack. New Stack is [2, None, None].\n",
      "1 pushed to 1 position of stack. New Stack is [2, 1, None].\n",
      "0 pushed to 2 position of stack. New Stack is [2, 1, 0].\n",
      "0 popped from 2 position of stack. New Stack is [2, 1, None].\n",
      "1 popped from 1 position of stack. New Stack is [2, None, None].\n",
      "5 pushed to 1 position of stack. New Stack is [2, 5, None].\n",
      "6 pushed to 2 position of stack. New Stack is [2, 5, 6].\n",
      "Overflow occured. Hence 3 couldn't be inserted.\n",
      "6 popped from 2 position of stack. New Stack is [2, 5, None].\n",
      "5 popped from 1 position of stack. New Stack is [2, None, None].\n",
      "2 popped from 0 position of stack. New Stack is [None, None, None].\n",
      "Underflow occured. Nothing to pop.\n",
      "11 pushed to 0 position of stack. New Stack is [11, None, None].\n"
     ]
    }
   ],
   "source": [
    "class Stack:\n",
    "    def __init__(self, size=5):\n",
    "        self.size = size\n",
    "        self.stack = [None] * size\n",
    "        self.pointer = -1\n",
    "        print(f\"Stack Initialized with size: {size}.\")\n",
    "\n",
    "    def push(self, data):\n",
    "        self.pointer+=1\n",
    "        if self.pointer >= self.size:\n",
    "            self.pointer-=1\n",
    "            print(f\"Overflow occured. Hence {data} couldn't be inserted.\")\n",
    "        else:\n",
    "            self.stack[self.pointer] = data\n",
    "            print(f\"{data} pushed to {self.pointer} position of stack. New Stack is {self.stack}.\")\n",
    "\n",
    "    def pop(self):\n",
    "        if self.pointer < 0:\n",
    "            self.pointer = -1\n",
    "            print(\"Underflow occured. Nothing to pop.\")\n",
    "        else:\n",
    "            p = self.stack[self.pointer]\n",
    "            self.stack[self.pointer] = None\n",
    "            print(f\"{p} popped from {self.pointer} position of stack. New Stack is {self.stack}.\") \n",
    "            self.pointer -= 1\n",
    "\n",
    "stack = Stack(3)\n",
    "stack.push(2)\n",
    "stack.push(1)\n",
    "stack.push(0)\n",
    "stack.pop()\n",
    "stack.pop()\n",
    "stack.push(5)\n",
    "stack.push(6)\n",
    "stack.push(3)\n",
    "stack.pop()\n",
    "stack.pop()\n",
    "stack.pop()\n",
    "stack.pop()\n",
    "stack.push(11)"
   ]
  },
  {
   "cell_type": "code",
   "execution_count": null,
   "metadata": {},
   "outputs": [],
   "source": []
  },
  {
   "cell_type": "code",
   "execution_count": null,
   "metadata": {},
   "outputs": [],
   "source": []
  }
 ],
 "metadata": {
  "kernelspec": {
   "display_name": "Python 3",
   "language": "python",
   "name": "python3"
  },
  "language_info": {
   "codemirror_mode": {
    "name": "ipython",
    "version": 3
   },
   "file_extension": ".py",
   "mimetype": "text/x-python",
   "name": "python",
   "nbconvert_exporter": "python",
   "pygments_lexer": "ipython3",
   "version": "3.8.5"
  },
  "latex_envs": {
   "LaTeX_envs_menu_present": true,
   "autoclose": false,
   "autocomplete": true,
   "bibliofile": "biblio.bib",
   "cite_by": "apalike",
   "current_citInitial": 1,
   "eqLabelWithNumbers": true,
   "eqNumInitial": 1,
   "hotkeys": {
    "equation": "Ctrl-E",
    "itemize": "Ctrl-I"
   },
   "labels_anchors": false,
   "latex_user_defs": false,
   "report_style_numbering": false,
   "user_envs_cfg": false
  },
  "toc": {
   "base_numbering": 1,
   "nav_menu": {},
   "number_sections": true,
   "sideBar": true,
   "skip_h1_title": false,
   "title_cell": "Table of Contents",
   "title_sidebar": "Contents",
   "toc_cell": false,
   "toc_position": {},
   "toc_section_display": true,
   "toc_window_display": false
  }
 },
 "nbformat": 4,
 "nbformat_minor": 2
}
